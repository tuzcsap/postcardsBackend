{
 "cells": [
  {
   "cell_type": "code",
   "execution_count": 2,
   "metadata": {
    "collapsed": true
   },
   "outputs": [],
   "source": [
    "import pandas as pd"
   ]
  },
  {
   "cell_type": "code",
   "execution_count": 46,
   "outputs": [],
   "source": [
    "import json"
   ],
   "metadata": {
    "collapsed": false,
    "pycharm": {
     "name": "#%%\n"
    }
   }
  },
  {
   "cell_type": "code",
   "execution_count": 33,
   "outputs": [],
   "source": [
    "postcards = pd.read_csv(\"data/base_without_coords.csv\", delimiter=\";\")"
   ],
   "metadata": {
    "collapsed": false,
    "pycharm": {
     "name": "#%%\n"
    }
   }
  },
  {
   "cell_type": "code",
   "execution_count": 7,
   "outputs": [],
   "source": [
    "geo = pd.read_csv(\"data/geo_checked.csv\")"
   ],
   "metadata": {
    "collapsed": false,
    "pycharm": {
     "name": "#%%\n"
    }
   }
  },
  {
   "cell_type": "code",
   "execution_count": 14,
   "outputs": [
    {
     "data": {
      "text/plain": "       id    LAT_from    LNG_from     LAT_to     LNG_to\n0      51  55.7504461  37.6174943  47.221386  39.711420\n1      52  46.4873195  30.7392776  41.693459  44.801449\n2      67  46.4873195  30.7392776  51.049329  13.738144\n3      76         NaN         NaN  56.949398  24.105185\n4      78  53.8949515   25.295719  56.949398  24.105185\n..    ...         ...         ...        ...        ...\n350  2499  50.4500336  30.5241361  59.938732  30.316229\n351  2501         NaN         NaN  59.938732  30.316229\n352  2502         NaN         NaN  59.938732  30.316229\n353  2503         NaN         NaN  59.938732  30.316229\n354  2504         NaN         NaN  59.938732  30.316229\n\n[355 rows x 5 columns]",
      "text/html": "<div>\n<style scoped>\n    .dataframe tbody tr th:only-of-type {\n        vertical-align: middle;\n    }\n\n    .dataframe tbody tr th {\n        vertical-align: top;\n    }\n\n    .dataframe thead th {\n        text-align: right;\n    }\n</style>\n<table border=\"1\" class=\"dataframe\">\n  <thead>\n    <tr style=\"text-align: right;\">\n      <th></th>\n      <th>id</th>\n      <th>LAT_from</th>\n      <th>LNG_from</th>\n      <th>LAT_to</th>\n      <th>LNG_to</th>\n    </tr>\n  </thead>\n  <tbody>\n    <tr>\n      <th>0</th>\n      <td>51</td>\n      <td>55.7504461</td>\n      <td>37.6174943</td>\n      <td>47.221386</td>\n      <td>39.711420</td>\n    </tr>\n    <tr>\n      <th>1</th>\n      <td>52</td>\n      <td>46.4873195</td>\n      <td>30.7392776</td>\n      <td>41.693459</td>\n      <td>44.801449</td>\n    </tr>\n    <tr>\n      <th>2</th>\n      <td>67</td>\n      <td>46.4873195</td>\n      <td>30.7392776</td>\n      <td>51.049329</td>\n      <td>13.738144</td>\n    </tr>\n    <tr>\n      <th>3</th>\n      <td>76</td>\n      <td>NaN</td>\n      <td>NaN</td>\n      <td>56.949398</td>\n      <td>24.105185</td>\n    </tr>\n    <tr>\n      <th>4</th>\n      <td>78</td>\n      <td>53.8949515</td>\n      <td>25.295719</td>\n      <td>56.949398</td>\n      <td>24.105185</td>\n    </tr>\n    <tr>\n      <th>...</th>\n      <td>...</td>\n      <td>...</td>\n      <td>...</td>\n      <td>...</td>\n      <td>...</td>\n    </tr>\n    <tr>\n      <th>350</th>\n      <td>2499</td>\n      <td>50.4500336</td>\n      <td>30.5241361</td>\n      <td>59.938732</td>\n      <td>30.316229</td>\n    </tr>\n    <tr>\n      <th>351</th>\n      <td>2501</td>\n      <td>NaN</td>\n      <td>NaN</td>\n      <td>59.938732</td>\n      <td>30.316229</td>\n    </tr>\n    <tr>\n      <th>352</th>\n      <td>2502</td>\n      <td>NaN</td>\n      <td>NaN</td>\n      <td>59.938732</td>\n      <td>30.316229</td>\n    </tr>\n    <tr>\n      <th>353</th>\n      <td>2503</td>\n      <td>NaN</td>\n      <td>NaN</td>\n      <td>59.938732</td>\n      <td>30.316229</td>\n    </tr>\n    <tr>\n      <th>354</th>\n      <td>2504</td>\n      <td>NaN</td>\n      <td>NaN</td>\n      <td>59.938732</td>\n      <td>30.316229</td>\n    </tr>\n  </tbody>\n</table>\n<p>355 rows × 5 columns</p>\n</div>"
     },
     "execution_count": 14,
     "metadata": {},
     "output_type": "execute_result"
    }
   ],
   "source": [
    "geo"
   ],
   "metadata": {
    "collapsed": false,
    "pycharm": {
     "name": "#%%\n"
    }
   }
  },
  {
   "cell_type": "code",
   "execution_count": 12,
   "outputs": [],
   "source": [
    "ids_with_coords = list(geo.id)"
   ],
   "metadata": {
    "collapsed": false,
    "pycharm": {
     "name": "#%%\n"
    }
   }
  },
  {
   "cell_type": "code",
   "execution_count": 34,
   "outputs": [],
   "source": [
    "postcards_tmp = postcards.loc[ids_with_coords]"
   ],
   "metadata": {
    "collapsed": false,
    "pycharm": {
     "name": "#%%\n"
    }
   }
  },
  {
   "cell_type": "code",
   "execution_count": 35,
   "outputs": [
    {
     "data": {
      "text/plain": "51        51\n52        52\n67        67\n76        76\n78        78\n        ... \n2499    2502\n2501    2504\n2502    2505\n2503    2506\n2504    2507\nName: base_id, Length: 355, dtype: int64"
     },
     "execution_count": 35,
     "metadata": {},
     "output_type": "execute_result"
    }
   ],
   "source": [
    "postcards_tmp.base_id"
   ],
   "metadata": {
    "collapsed": false,
    "pycharm": {
     "name": "#%%\n"
    }
   }
  },
  {
   "cell_type": "code",
   "execution_count": 36,
   "outputs": [],
   "source": [
    "postcards_with_coords = pd.merge(postcards_tmp.rename(columns={\"base_id\": \"id\"}), geo, on=\"id\", how=\"left\")"
   ],
   "metadata": {
    "collapsed": false,
    "pycharm": {
     "name": "#%%\n"
    }
   }
  },
  {
   "cell_type": "code",
   "execution_count": 39,
   "outputs": [],
   "source": [
    "postcards_with_coords.drop([\"Широта (куда)\", \"Широта (откуда)\", \"Долгота (куда)\", \"Долгота (откуда)\"], axis=1, inplace=True)"
   ],
   "metadata": {
    "collapsed": false,
    "pycharm": {
     "name": "#%%\n"
    }
   }
  },
  {
   "cell_type": "code",
   "execution_count": 40,
   "outputs": [
    {
     "data": {
      "text/plain": "   id                                          Pic_url_1  \\\n0  51  https://forum.vgd.ru/file.php?fid=454522&key=2...   \n1  52  https://forum.vgd.ru/file.php?fid=454524&key=1...   \n2  67  https://forum.vgd.ru/file.php?fid=448722&key=1...   \n3  76  https://forum.vgd.ru/file.php?fid=448778&key=7...   \n4  78  https://forum.vgd.ru/file.php?fid=448794&key=1...   \n\n                                           Pic_url_2 Язык текста открытки  \\\n0  https://forum.vgd.ru/file.php?fid=454521&key=5...              русский   \n1  https://forum.vgd.ru/file.php?fid=454523&key=6...              русский   \n2  https://forum.vgd.ru/file.php?fid=448723&key=7...             немецкий   \n3  https://forum.vgd.ru/file.php?fid=448779&key=1...              русский   \n4  https://forum.vgd.ru/file.php?fid=448795&key=4...              русский   \n\n  Дата написания текста (если автор указал явно, не штампы)  \\\n0                                         xx.xx.xxxx          \n1                                         07.12.1910          \n2                                         30.07.1901          \n3                                      [отсутствует]          \n4                                         18.08.1915          \n\n               Адрес отправителя  \\\n0                         Москва   \n1                         Одесса   \n2                         Одесса   \n3  Забалканский пр., д.53, кв.64   \n4      Лида Гродненской губернии   \n\n                                 Имя отправителя  \\\n0                                     М.Каневски   \n1                                  [отсутствует]   \n2  [?M.Cholodenko] [Перевод] [?М. Холоденко]\\r\\n   \n3                                         Хильда   \n4                                [нрзб. подпись]   \n\n                                    Адрес получателя Индекс получателя  \\\n0  Ростов на Дону, Летнее помещение коммерческого...    [отсутствует]    \n1              Кавказ, Тифлис, Авчальская ул., д. 51    [отсутствует]    \n2  Dresden A, Technische Hochsch[ule] [Перевод] Д...     [отсутствует]   \n3             г.Рига, Гертруденская ул., д.104, кв.6     [отсутствует]   \n4           г. Рига, Бульвар Наследника, д.3, кв. 16     [отсутствует]   \n\n                     Имя получателя  ...            Тег_4           Тег_5  \\\n0                         П. Перов   ...              NaN             NaN   \n1   Ол[ьга] Константиновна Карасева  ...  Письма от семьи  Письма от мамы   \n2  R. Ratscheff [Перевод] Р. Рачефф  ...              NaN             NaN   \n3      M-elle Сильган \\r\\nГолубушке  ...              NaN             NaN   \n4                   Мария Фельдберг  ...              NaN             NaN   \n\n        Тег_6 original_pic_url_2  \\\n0         NaN                NaN   \n1  Шлю привет                NaN   \n2         NaN                NaN   \n3         NaN                NaN   \n4         NaN                NaN   \n\n                                         front_27.05  \\\n0  https://forum.vgd.ru/file.php?fid=454522&key=2...   \n1  https://forum.vgd.ru/file.php?fid=454524&key=1...   \n2  https://forum.vgd.ru/file.php?fid=448722&key=1...   \n3  https://forum.vgd.ru/file.php?fid=448778&key=7...   \n4  https://forum.vgd.ru/file.php?fid=448794&key=1...   \n\n                                          back_27.05    LAT_from    LNG_from  \\\n0  https://forum.vgd.ru/file.php?fid=454521&key=5...  55.7504461  37.6174943   \n1  https://forum.vgd.ru/file.php?fid=454523&key=6...  46.4873195  30.7392776   \n2  https://forum.vgd.ru/file.php?fid=448723&key=7...  46.4873195  30.7392776   \n3  https://forum.vgd.ru/file.php?fid=448779&key=1...         NaN         NaN   \n4  https://forum.vgd.ru/file.php?fid=448795&key=4...  53.8949515   25.295719   \n\n      LAT_to     LNG_to  \n0  47.221386  39.711420  \n1  41.693459  44.801449  \n2  51.049329  13.738144  \n3  56.949398  24.105185  \n4  56.949398  24.105185  \n\n[5 rows x 31 columns]",
      "text/html": "<div>\n<style scoped>\n    .dataframe tbody tr th:only-of-type {\n        vertical-align: middle;\n    }\n\n    .dataframe tbody tr th {\n        vertical-align: top;\n    }\n\n    .dataframe thead th {\n        text-align: right;\n    }\n</style>\n<table border=\"1\" class=\"dataframe\">\n  <thead>\n    <tr style=\"text-align: right;\">\n      <th></th>\n      <th>id</th>\n      <th>Pic_url_1</th>\n      <th>Pic_url_2</th>\n      <th>Язык текста открытки</th>\n      <th>Дата написания текста (если автор указал явно, не штампы)</th>\n      <th>Адрес отправителя</th>\n      <th>Имя отправителя</th>\n      <th>Адрес получателя</th>\n      <th>Индекс получателя</th>\n      <th>Имя получателя</th>\n      <th>...</th>\n      <th>Тег_4</th>\n      <th>Тег_5</th>\n      <th>Тег_6</th>\n      <th>original_pic_url_2</th>\n      <th>front_27.05</th>\n      <th>back_27.05</th>\n      <th>LAT_from</th>\n      <th>LNG_from</th>\n      <th>LAT_to</th>\n      <th>LNG_to</th>\n    </tr>\n  </thead>\n  <tbody>\n    <tr>\n      <th>0</th>\n      <td>51</td>\n      <td>https://forum.vgd.ru/file.php?fid=454522&amp;key=2...</td>\n      <td>https://forum.vgd.ru/file.php?fid=454521&amp;key=5...</td>\n      <td>русский</td>\n      <td>xx.xx.xxxx</td>\n      <td>Москва</td>\n      <td>М.Каневски</td>\n      <td>Ростов на Дону, Летнее помещение коммерческого...</td>\n      <td>[отсутствует]</td>\n      <td>П. Перов</td>\n      <td>...</td>\n      <td>NaN</td>\n      <td>NaN</td>\n      <td>NaN</td>\n      <td>NaN</td>\n      <td>https://forum.vgd.ru/file.php?fid=454522&amp;key=2...</td>\n      <td>https://forum.vgd.ru/file.php?fid=454521&amp;key=5...</td>\n      <td>55.7504461</td>\n      <td>37.6174943</td>\n      <td>47.221386</td>\n      <td>39.711420</td>\n    </tr>\n    <tr>\n      <th>1</th>\n      <td>52</td>\n      <td>https://forum.vgd.ru/file.php?fid=454524&amp;key=1...</td>\n      <td>https://forum.vgd.ru/file.php?fid=454523&amp;key=6...</td>\n      <td>русский</td>\n      <td>07.12.1910</td>\n      <td>Одесса</td>\n      <td>[отсутствует]</td>\n      <td>Кавказ, Тифлис, Авчальская ул., д. 51</td>\n      <td>[отсутствует]</td>\n      <td>Ол[ьга] Константиновна Карасева</td>\n      <td>...</td>\n      <td>Письма от семьи</td>\n      <td>Письма от мамы</td>\n      <td>Шлю привет</td>\n      <td>NaN</td>\n      <td>https://forum.vgd.ru/file.php?fid=454524&amp;key=1...</td>\n      <td>https://forum.vgd.ru/file.php?fid=454523&amp;key=6...</td>\n      <td>46.4873195</td>\n      <td>30.7392776</td>\n      <td>41.693459</td>\n      <td>44.801449</td>\n    </tr>\n    <tr>\n      <th>2</th>\n      <td>67</td>\n      <td>https://forum.vgd.ru/file.php?fid=448722&amp;key=1...</td>\n      <td>https://forum.vgd.ru/file.php?fid=448723&amp;key=7...</td>\n      <td>немецкий</td>\n      <td>30.07.1901</td>\n      <td>Одесса</td>\n      <td>[?M.Cholodenko] [Перевод] [?М. Холоденко]\\r\\n</td>\n      <td>Dresden A, Technische Hochsch[ule] [Перевод] Д...</td>\n      <td>[отсутствует]</td>\n      <td>R. Ratscheff [Перевод] Р. Рачефф</td>\n      <td>...</td>\n      <td>NaN</td>\n      <td>NaN</td>\n      <td>NaN</td>\n      <td>NaN</td>\n      <td>https://forum.vgd.ru/file.php?fid=448722&amp;key=1...</td>\n      <td>https://forum.vgd.ru/file.php?fid=448723&amp;key=7...</td>\n      <td>46.4873195</td>\n      <td>30.7392776</td>\n      <td>51.049329</td>\n      <td>13.738144</td>\n    </tr>\n    <tr>\n      <th>3</th>\n      <td>76</td>\n      <td>https://forum.vgd.ru/file.php?fid=448778&amp;key=7...</td>\n      <td>https://forum.vgd.ru/file.php?fid=448779&amp;key=1...</td>\n      <td>русский</td>\n      <td>[отсутствует]</td>\n      <td>Забалканский пр., д.53, кв.64</td>\n      <td>Хильда</td>\n      <td>г.Рига, Гертруденская ул., д.104, кв.6</td>\n      <td>[отсутствует]</td>\n      <td>M-elle Сильган \\r\\nГолубушке</td>\n      <td>...</td>\n      <td>NaN</td>\n      <td>NaN</td>\n      <td>NaN</td>\n      <td>NaN</td>\n      <td>https://forum.vgd.ru/file.php?fid=448778&amp;key=7...</td>\n      <td>https://forum.vgd.ru/file.php?fid=448779&amp;key=1...</td>\n      <td>NaN</td>\n      <td>NaN</td>\n      <td>56.949398</td>\n      <td>24.105185</td>\n    </tr>\n    <tr>\n      <th>4</th>\n      <td>78</td>\n      <td>https://forum.vgd.ru/file.php?fid=448794&amp;key=1...</td>\n      <td>https://forum.vgd.ru/file.php?fid=448795&amp;key=4...</td>\n      <td>русский</td>\n      <td>18.08.1915</td>\n      <td>Лида Гродненской губернии</td>\n      <td>[нрзб. подпись]</td>\n      <td>г. Рига, Бульвар Наследника, д.3, кв. 16</td>\n      <td>[отсутствует]</td>\n      <td>Мария Фельдберг</td>\n      <td>...</td>\n      <td>NaN</td>\n      <td>NaN</td>\n      <td>NaN</td>\n      <td>NaN</td>\n      <td>https://forum.vgd.ru/file.php?fid=448794&amp;key=1...</td>\n      <td>https://forum.vgd.ru/file.php?fid=448795&amp;key=4...</td>\n      <td>53.8949515</td>\n      <td>25.295719</td>\n      <td>56.949398</td>\n      <td>24.105185</td>\n    </tr>\n  </tbody>\n</table>\n<p>5 rows × 31 columns</p>\n</div>"
     },
     "execution_count": 40,
     "metadata": {},
     "output_type": "execute_result"
    }
   ],
   "source": [
    "postcards_with_coords.head()"
   ],
   "metadata": {
    "collapsed": false,
    "pycharm": {
     "name": "#%%\n"
    }
   }
  },
  {
   "cell_type": "code",
   "execution_count": 51,
   "outputs": [],
   "source": [
    "with open('data/postcards_with_coords.json', 'w', encoding='utf-8') as file:\n",
    "    postcards_with_coords.to_json(file, orient=\"records\", force_ascii=False)"
   ],
   "metadata": {
    "collapsed": false,
    "pycharm": {
     "name": "#%%\n"
    }
   }
  },
  {
   "cell_type": "code",
   "execution_count": 49,
   "outputs": [
    {
     "data": {
      "text/plain": "   id                                          Pic_url_1  \\\n0  51  https://forum.vgd.ru/file.php?fid=454522&key=2...   \n1  52  https://forum.vgd.ru/file.php?fid=454524&key=1...   \n2  67  https://forum.vgd.ru/file.php?fid=448722&key=1...   \n3  76  https://forum.vgd.ru/file.php?fid=448778&key=7...   \n4  78  https://forum.vgd.ru/file.php?fid=448794&key=1...   \n\n                                           Pic_url_2 Язык текста открытки  \\\n0  https://forum.vgd.ru/file.php?fid=454521&key=5...              русский   \n1  https://forum.vgd.ru/file.php?fid=454523&key=6...              русский   \n2  https://forum.vgd.ru/file.php?fid=448723&key=7...             немецкий   \n3  https://forum.vgd.ru/file.php?fid=448779&key=1...              русский   \n4  https://forum.vgd.ru/file.php?fid=448795&key=4...              русский   \n\n  Дата написания текста (если автор указал явно, не штампы)  \\\n0                                         xx.xx.xxxx          \n1                                         07.12.1910          \n2                                         30.07.1901          \n3                                      [отсутствует]          \n4                                         18.08.1915          \n\n               Адрес отправителя  \\\n0                         Москва   \n1                         Одесса   \n2                         Одесса   \n3  Забалканский пр., д.53, кв.64   \n4      Лида Гродненской губернии   \n\n                                 Имя отправителя  \\\n0                                     М.Каневски   \n1                                  [отсутствует]   \n2  [?M.Cholodenko] [Перевод] [?М. Холоденко]\\r\\n   \n3                                         Хильда   \n4                                [нрзб. подпись]   \n\n                                    Адрес получателя Индекс получателя  \\\n0  Ростов на Дону, Летнее помещение коммерческого...    [отсутствует]    \n1              Кавказ, Тифлис, Авчальская ул., д. 51    [отсутствует]    \n2  Dresden A, Technische Hochsch[ule] [Перевод] Д...     [отсутствует]   \n3             г.Рига, Гертруденская ул., д.104, кв.6     [отсутствует]   \n4           г. Рига, Бульвар Наследника, д.3, кв. 16     [отсутствует]   \n\n                     Имя получателя  ...            Тег_4           Тег_5  \\\n0                         П. Перов   ...              NaN             NaN   \n1   Ол[ьга] Константиновна Карасева  ...  Письма от семьи  Письма от мамы   \n2  R. Ratscheff [Перевод] Р. Рачефф  ...              NaN             NaN   \n3      M-elle Сильган \\r\\nГолубушке  ...              NaN             NaN   \n4                   Мария Фельдберг  ...              NaN             NaN   \n\n        Тег_6 original_pic_url_2  \\\n0         NaN                NaN   \n1  Шлю привет                NaN   \n2         NaN                NaN   \n3         NaN                NaN   \n4         NaN                NaN   \n\n                                         front_27.05  \\\n0  https://forum.vgd.ru/file.php?fid=454522&key=2...   \n1  https://forum.vgd.ru/file.php?fid=454524&key=1...   \n2  https://forum.vgd.ru/file.php?fid=448722&key=1...   \n3  https://forum.vgd.ru/file.php?fid=448778&key=7...   \n4  https://forum.vgd.ru/file.php?fid=448794&key=1...   \n\n                                          back_27.05    LAT_from    LNG_from  \\\n0  https://forum.vgd.ru/file.php?fid=454521&key=5...  55.7504461  37.6174943   \n1  https://forum.vgd.ru/file.php?fid=454523&key=6...  46.4873195  30.7392776   \n2  https://forum.vgd.ru/file.php?fid=448723&key=7...  46.4873195  30.7392776   \n3  https://forum.vgd.ru/file.php?fid=448779&key=1...         NaN         NaN   \n4  https://forum.vgd.ru/file.php?fid=448795&key=4...  53.8949515   25.295719   \n\n      LAT_to     LNG_to  \n0  47.221386  39.711420  \n1  41.693459  44.801449  \n2  51.049329  13.738144  \n3  56.949398  24.105185  \n4  56.949398  24.105185  \n\n[5 rows x 31 columns]",
      "text/html": "<div>\n<style scoped>\n    .dataframe tbody tr th:only-of-type {\n        vertical-align: middle;\n    }\n\n    .dataframe tbody tr th {\n        vertical-align: top;\n    }\n\n    .dataframe thead th {\n        text-align: right;\n    }\n</style>\n<table border=\"1\" class=\"dataframe\">\n  <thead>\n    <tr style=\"text-align: right;\">\n      <th></th>\n      <th>id</th>\n      <th>Pic_url_1</th>\n      <th>Pic_url_2</th>\n      <th>Язык текста открытки</th>\n      <th>Дата написания текста (если автор указал явно, не штампы)</th>\n      <th>Адрес отправителя</th>\n      <th>Имя отправителя</th>\n      <th>Адрес получателя</th>\n      <th>Индекс получателя</th>\n      <th>Имя получателя</th>\n      <th>...</th>\n      <th>Тег_4</th>\n      <th>Тег_5</th>\n      <th>Тег_6</th>\n      <th>original_pic_url_2</th>\n      <th>front_27.05</th>\n      <th>back_27.05</th>\n      <th>LAT_from</th>\n      <th>LNG_from</th>\n      <th>LAT_to</th>\n      <th>LNG_to</th>\n    </tr>\n  </thead>\n  <tbody>\n    <tr>\n      <th>0</th>\n      <td>51</td>\n      <td>https://forum.vgd.ru/file.php?fid=454522&amp;key=2...</td>\n      <td>https://forum.vgd.ru/file.php?fid=454521&amp;key=5...</td>\n      <td>русский</td>\n      <td>xx.xx.xxxx</td>\n      <td>Москва</td>\n      <td>М.Каневски</td>\n      <td>Ростов на Дону, Летнее помещение коммерческого...</td>\n      <td>[отсутствует]</td>\n      <td>П. Перов</td>\n      <td>...</td>\n      <td>NaN</td>\n      <td>NaN</td>\n      <td>NaN</td>\n      <td>NaN</td>\n      <td>https://forum.vgd.ru/file.php?fid=454522&amp;key=2...</td>\n      <td>https://forum.vgd.ru/file.php?fid=454521&amp;key=5...</td>\n      <td>55.7504461</td>\n      <td>37.6174943</td>\n      <td>47.221386</td>\n      <td>39.711420</td>\n    </tr>\n    <tr>\n      <th>1</th>\n      <td>52</td>\n      <td>https://forum.vgd.ru/file.php?fid=454524&amp;key=1...</td>\n      <td>https://forum.vgd.ru/file.php?fid=454523&amp;key=6...</td>\n      <td>русский</td>\n      <td>07.12.1910</td>\n      <td>Одесса</td>\n      <td>[отсутствует]</td>\n      <td>Кавказ, Тифлис, Авчальская ул., д. 51</td>\n      <td>[отсутствует]</td>\n      <td>Ол[ьга] Константиновна Карасева</td>\n      <td>...</td>\n      <td>Письма от семьи</td>\n      <td>Письма от мамы</td>\n      <td>Шлю привет</td>\n      <td>NaN</td>\n      <td>https://forum.vgd.ru/file.php?fid=454524&amp;key=1...</td>\n      <td>https://forum.vgd.ru/file.php?fid=454523&amp;key=6...</td>\n      <td>46.4873195</td>\n      <td>30.7392776</td>\n      <td>41.693459</td>\n      <td>44.801449</td>\n    </tr>\n    <tr>\n      <th>2</th>\n      <td>67</td>\n      <td>https://forum.vgd.ru/file.php?fid=448722&amp;key=1...</td>\n      <td>https://forum.vgd.ru/file.php?fid=448723&amp;key=7...</td>\n      <td>немецкий</td>\n      <td>30.07.1901</td>\n      <td>Одесса</td>\n      <td>[?M.Cholodenko] [Перевод] [?М. Холоденко]\\r\\n</td>\n      <td>Dresden A, Technische Hochsch[ule] [Перевод] Д...</td>\n      <td>[отсутствует]</td>\n      <td>R. Ratscheff [Перевод] Р. Рачефф</td>\n      <td>...</td>\n      <td>NaN</td>\n      <td>NaN</td>\n      <td>NaN</td>\n      <td>NaN</td>\n      <td>https://forum.vgd.ru/file.php?fid=448722&amp;key=1...</td>\n      <td>https://forum.vgd.ru/file.php?fid=448723&amp;key=7...</td>\n      <td>46.4873195</td>\n      <td>30.7392776</td>\n      <td>51.049329</td>\n      <td>13.738144</td>\n    </tr>\n    <tr>\n      <th>3</th>\n      <td>76</td>\n      <td>https://forum.vgd.ru/file.php?fid=448778&amp;key=7...</td>\n      <td>https://forum.vgd.ru/file.php?fid=448779&amp;key=1...</td>\n      <td>русский</td>\n      <td>[отсутствует]</td>\n      <td>Забалканский пр., д.53, кв.64</td>\n      <td>Хильда</td>\n      <td>г.Рига, Гертруденская ул., д.104, кв.6</td>\n      <td>[отсутствует]</td>\n      <td>M-elle Сильган \\r\\nГолубушке</td>\n      <td>...</td>\n      <td>NaN</td>\n      <td>NaN</td>\n      <td>NaN</td>\n      <td>NaN</td>\n      <td>https://forum.vgd.ru/file.php?fid=448778&amp;key=7...</td>\n      <td>https://forum.vgd.ru/file.php?fid=448779&amp;key=1...</td>\n      <td>NaN</td>\n      <td>NaN</td>\n      <td>56.949398</td>\n      <td>24.105185</td>\n    </tr>\n    <tr>\n      <th>4</th>\n      <td>78</td>\n      <td>https://forum.vgd.ru/file.php?fid=448794&amp;key=1...</td>\n      <td>https://forum.vgd.ru/file.php?fid=448795&amp;key=4...</td>\n      <td>русский</td>\n      <td>18.08.1915</td>\n      <td>Лида Гродненской губернии</td>\n      <td>[нрзб. подпись]</td>\n      <td>г. Рига, Бульвар Наследника, д.3, кв. 16</td>\n      <td>[отсутствует]</td>\n      <td>Мария Фельдберг</td>\n      <td>...</td>\n      <td>NaN</td>\n      <td>NaN</td>\n      <td>NaN</td>\n      <td>NaN</td>\n      <td>https://forum.vgd.ru/file.php?fid=448794&amp;key=1...</td>\n      <td>https://forum.vgd.ru/file.php?fid=448795&amp;key=4...</td>\n      <td>53.8949515</td>\n      <td>25.295719</td>\n      <td>56.949398</td>\n      <td>24.105185</td>\n    </tr>\n  </tbody>\n</table>\n<p>5 rows × 31 columns</p>\n</div>"
     },
     "execution_count": 49,
     "metadata": {},
     "output_type": "execute_result"
    }
   ],
   "source": [
    "postcards_with_coords[:5]"
   ],
   "metadata": {
    "collapsed": false,
    "pycharm": {
     "name": "#%%\n"
    }
   }
  },
  {
   "cell_type": "code",
   "execution_count": null,
   "outputs": [],
   "source": [
    "# rename columns\n",
    "# convert lat and lon to string"
   ],
   "metadata": {
    "collapsed": false,
    "pycharm": {
     "name": "#%%\n"
    }
   }
  }
 ],
 "metadata": {
  "kernelspec": {
   "display_name": "Python 3",
   "language": "python",
   "name": "python3"
  },
  "language_info": {
   "codemirror_mode": {
    "name": "ipython",
    "version": 2
   },
   "file_extension": ".py",
   "mimetype": "text/x-python",
   "name": "python",
   "nbconvert_exporter": "python",
   "pygments_lexer": "ipython2",
   "version": "2.7.6"
  }
 },
 "nbformat": 4,
 "nbformat_minor": 0
}